{
 "cells": [
  {
   "cell_type": "markdown",
   "id": "9bd0eae7",
   "metadata": {},
   "source": [
    "# Climate and Weather "
   ]
  },
  {
   "cell_type": "code",
   "execution_count": 40,
   "id": "de5f8a0f",
   "metadata": {},
   "outputs": [],
   "source": [
    "import pandas as pd \n",
    "import requests\n",
    "import json\n",
    "import datetime as dt\n",
    "import time \n",
    "import matplotlib.pyplot as plt\n",
    "from matplotlib.dates import DayLocator, MonthLocator, YearLocator, WeekdayLocator"
   ]
  },
  {
   "cell_type": "markdown",
   "id": "d3bf8ec6",
   "metadata": {},
   "source": [
    "In this notebook we will explore climate for use in our `wow` web app that we have created"
   ]
  },
  {
   "cell_type": "markdown",
   "id": "bb3d35e4",
   "metadata": {},
   "source": [
    "The following dashboard will contain:\n",
    "\n",
    "Current weather conditions: temperature, precipitation, wind speed, and humidity.\n",
    "\n",
    "Forecasts for the next several days: Expected high and low temperatures, precipitation\n",
    "\n",
    "Historical climate data: Average temperatures and precipitation levels, to help the company plan for seasonal variations.\n",
    "\n",
    "- Information on extreme weather events, such as heat waves, droughts, and bushfires, to help the company prepare for and respond to potential hazards.\n",
    "- Information on water levels, tides, and storms to help the company plan for potential flooding or other hazards.\n",
    "- Information on air quality and UV radiation to help the company advise guests on health and safety concerns.\n",
    "- Information on local weather conditions such as bushfire, storm, cyclone, to give a heads up to the company and guests to take necessary precautions.\n",
    "- Information on climate change, such as long-term temperature and precipitation trends, to help the company plan for potential changes in weather patterns and impacts on the tourism industry.\n"
   ]
  },
  {
   "cell_type": "markdown",
   "id": "91bf85b4",
   "metadata": {},
   "source": [
    "# Table of contents\n",
    "\n",
    "1. Data Sourcing\n",
    "2. EDA\n",
    "3. Data Engineering\n",
    "4. Data Visualization"
   ]
  },
  {
   "cell_type": "markdown",
   "id": "932d6ecf",
   "metadata": {},
   "source": [
    "## 1. Data Scourcing"
   ]
  },
  {
   "cell_type": "markdown",
   "id": "1639d2af",
   "metadata": {},
   "source": [
    "### Weather"
   ]
  },
  {
   "cell_type": "code",
   "execution_count": 2,
   "id": "65fbb20f",
   "metadata": {},
   "outputs": [],
   "source": [
    "#open weather api \n",
    "key_weather = \"1869b839201edabd6a70fbd15da79d1f\"\n",
    "CITY = \"Sydney\"\n",
    "BASE_URL_WEATHER = \"http://api.openweathermap.org/data/2.5/weather?\""
   ]
  },
  {
   "cell_type": "code",
   "execution_count": 3,
   "id": "85e7aad3",
   "metadata": {},
   "outputs": [],
   "source": [
    "url= BASE_URL_WEATHER + \"appid=\" + key_weather + \"&q=\" +CITY"
   ]
  },
  {
   "cell_type": "code",
   "execution_count": 5,
   "id": "dcbe5063",
   "metadata": {
    "scrolled": true
   },
   "outputs": [
    {
     "name": "stdout",
     "output_type": "stream",
     "text": [
      "{'coord': {'lon': 151.2073, 'lat': -33.8679}, 'weather': [{'id': 803, 'main': 'Clouds', 'description': 'broken clouds', 'icon': '04d'}], 'base': 'stations', 'main': {'temp': 291.53, 'feels_like': 291.41, 'temp_min': 290.23, 'temp_max': 292.34, 'pressure': 1011, 'humidity': 76}, 'visibility': 10000, 'wind': {'speed': 12.35, 'deg': 170}, 'clouds': {'all': 75}, 'dt': 1674097978, 'sys': {'type': 2, 'id': 2002865, 'country': 'AU', 'sunrise': 1674068576, 'sunset': 1674119276}, 'timezone': 39600, 'id': 2147714, 'name': 'Sydney', 'cod': 200}\n"
     ]
    }
   ],
   "source": [
    "response = requests.get(url).json()\n",
    "print(response)"
   ]
  },
  {
   "cell_type": "code",
   "execution_count": 6,
   "id": "ee88c51b",
   "metadata": {},
   "outputs": [],
   "source": [
    "def temp_convert(kelvin):\n",
    "    celsius = kelvin-273.15\n",
    "    \n",
    "    return celsius"
   ]
  },
  {
   "cell_type": "code",
   "execution_count": 7,
   "id": "03373b5d",
   "metadata": {},
   "outputs": [],
   "source": [
    "temp_celsius = temp_convert(response[\"main\"][\"temp\"])\n",
    "feels_like = temp_convert(response[\"main\"]['feels_like'])\n",
    "humidity = response[\"main\"][\"humidity\"]\n",
    "description = response['weather'][0]['description']\n",
    "sunrise_time = dt.datetime.utcfromtimestamp(response['sys']['sunrise']+ response['timezone'])\n",
    "sunrise_time = dt.datetime.utcfromtimestamp(response['sys']['sunset']+ response['timezone'])\n",
    "wind_speed = response['wind']['speed']\n",
    "wind_direction = response['wind']['deg']"
   ]
  },
  {
   "cell_type": "markdown",
   "id": "c8add32c",
   "metadata": {},
   "source": [
    "So now we can enter a city and recieve the weather back\n",
    "what we need is the forcast for the next few days "
   ]
  },
  {
   "cell_type": "markdown",
   "id": "8d7c8557",
   "metadata": {},
   "source": [
    "#### Forcasts"
   ]
  },
  {
   "cell_type": "code",
   "execution_count": 8,
   "id": "447676cc",
   "metadata": {},
   "outputs": [
    {
     "name": "stdout",
     "output_type": "stream",
     "text": [
      "https://api.openweathermap.org/data/2.5/weather?q=Sydney&appid=1869b839201edabd6a70fbd15da79d1f\n",
      "Sydney 151.2073 -33.8679\n"
     ]
    }
   ],
   "source": [
    "#Let's get the city's coordinates (lat and lon)\n",
    "url = f'https://api.openweathermap.org/data/2.5/weather?q={CITY}&appid={key_weather}'\n",
    "print(url)\n",
    "\n",
    "#Let's parse the Json\n",
    "req = requests.get(url)\n",
    "data = req.json()\n",
    "\n",
    "#Let's get the name, the longitude and latitude\n",
    "name = data['name']\n",
    "lon = data['coord']['lon']\n",
    "lat = data['coord']['lat']\n",
    "\n",
    "print(name, lon, lat)"
   ]
  },
  {
   "cell_type": "code",
   "execution_count": 9,
   "id": "29b3bc7c",
   "metadata": {
    "scrolled": false
   },
   "outputs": [],
   "source": [
    "def weather_forcast(lat,lon):\n",
    "    url = f\"https://api.openweathermap.org/data/2.5/forecast?lat={lat}&lon={lon}&appid={key_weather}&units=metric\"\n",
    "\n",
    "    #Let's now parse the JSON\n",
    "    req = requests.get(url)\n",
    "    data = req.json()\n",
    "\n",
    "    return data['list']"
   ]
  },
  {
   "cell_type": "code",
   "execution_count": 10,
   "id": "e4bcd55b",
   "metadata": {
    "scrolled": true
   },
   "outputs": [],
   "source": [
    "data2 = weather_forcast(lat,lon)"
   ]
  },
  {
   "cell_type": "code",
   "execution_count": 11,
   "id": "4a5da0d1",
   "metadata": {},
   "outputs": [
    {
     "data": {
      "text/plain": [
       "'light rain'"
      ]
     },
     "execution_count": 11,
     "metadata": {},
     "output_type": "execute_result"
    }
   ],
   "source": [
    "data2[0]['weather'][0]['description']"
   ]
  },
  {
   "cell_type": "markdown",
   "id": "9e3c0528",
   "metadata": {},
   "source": [
    "The last issue here is that the times are not in the correct timezones to correct that we have to add the timezone to the time "
   ]
  },
  {
   "cell_type": "code",
   "execution_count": 12,
   "id": "ae97f502",
   "metadata": {},
   "outputs": [],
   "source": [
    "#dt.datetime(data2[0])"
   ]
  },
  {
   "cell_type": "code",
   "execution_count": 13,
   "id": "be1d58ab",
   "metadata": {},
   "outputs": [
    {
     "data": {
      "text/plain": [
       "{'dt': 1674108000,\n",
       " 'main': {'temp': 18.44,\n",
       "  'feels_like': 18.25,\n",
       "  'temp_min': 18.44,\n",
       "  'temp_max': 18.55,\n",
       "  'pressure': 1011,\n",
       "  'sea_level': 1011,\n",
       "  'grnd_level': 1004,\n",
       "  'humidity': 73,\n",
       "  'temp_kf': -0.11},\n",
       " 'weather': [{'id': 500,\n",
       "   'main': 'Rain',\n",
       "   'description': 'light rain',\n",
       "   'icon': '10d'}],\n",
       " 'clouds': {'all': 83},\n",
       " 'wind': {'speed': 7.61, 'deg': 185, 'gust': 10.44},\n",
       " 'visibility': 10000,\n",
       " 'pop': 0.61,\n",
       " 'rain': {'3h': 0.32},\n",
       " 'sys': {'pod': 'd'},\n",
       " 'dt_txt': '2023-01-19 06:00:00'}"
      ]
     },
     "execution_count": 13,
     "metadata": {},
     "output_type": "execute_result"
    }
   ],
   "source": [
    " data2[0]"
   ]
  },
  {
   "cell_type": "markdown",
   "id": "ad3afde9",
   "metadata": {},
   "source": [
    "### Climate "
   ]
  },
  {
   "cell_type": "markdown",
   "id": "a21565fc",
   "metadata": {},
   "source": [
    "#### Air pollution Data "
   ]
  },
  {
   "cell_type": "code",
   "execution_count": 14,
   "id": "f956c9a9",
   "metadata": {},
   "outputs": [],
   "source": [
    "#Setting the dates \n",
    "start= int(time.mktime(dt.datetime(2020,1,1).timetuple()))\n",
    "end = int(time.mktime(dt.datetime.now().timetuple()))"
   ]
  },
  {
   "cell_type": "code",
   "execution_count": 15,
   "id": "a9a9d816",
   "metadata": {},
   "outputs": [
    {
     "data": {
      "text/plain": [
       "'1577829600 +  ,  + 1674098366'"
      ]
     },
     "execution_count": 15,
     "metadata": {},
     "output_type": "execute_result"
    }
   ],
   "source": [
    "str(f\"{start} +  ,  + {end}\")"
   ]
  },
  {
   "cell_type": "code",
   "execution_count": 16,
   "id": "33834fd8",
   "metadata": {},
   "outputs": [],
   "source": [
    "#url\n",
    "\n",
    "url_air=f\"http://api.openweathermap.org/data/2.5/air_pollution/history?lat={lat}&lon={lon}&start={start}&end={end}&appid={key_weather}\""
   ]
  },
  {
   "cell_type": "code",
   "execution_count": 17,
   "id": "5a25aa3e",
   "metadata": {},
   "outputs": [],
   "source": [
    "#make a request\n",
    "\n",
    "req = requests.get(url_air)\n",
    "data = req.json()"
   ]
  },
  {
   "cell_type": "code",
   "execution_count": 18,
   "id": "65518416",
   "metadata": {},
   "outputs": [],
   "source": [
    "data_air = pd.DataFrame.from_dict(data['list'])"
   ]
  },
  {
   "cell_type": "code",
   "execution_count": 19,
   "id": "ba11ff1b",
   "metadata": {},
   "outputs": [],
   "source": [
    "#Change timestamp to a date \n",
    "data_air['date'] = data_air['dt'].apply(lambda d: dt.datetime.fromtimestamp(d))"
   ]
  },
  {
   "cell_type": "code",
   "execution_count": 20,
   "id": "673641fb",
   "metadata": {},
   "outputs": [],
   "source": [
    "#drop dt\n",
    "data_air = data_air.drop(columns=[\"dt\",\"main\"])"
   ]
  },
  {
   "cell_type": "code",
   "execution_count": 21,
   "id": "b731a5c4",
   "metadata": {},
   "outputs": [
    {
     "data": {
      "text/html": [
       "<div>\n",
       "<style scoped>\n",
       "    .dataframe tbody tr th:only-of-type {\n",
       "        vertical-align: middle;\n",
       "    }\n",
       "\n",
       "    .dataframe tbody tr th {\n",
       "        vertical-align: top;\n",
       "    }\n",
       "\n",
       "    .dataframe thead th {\n",
       "        text-align: right;\n",
       "    }\n",
       "</style>\n",
       "<table border=\"1\" class=\"dataframe\">\n",
       "  <thead>\n",
       "    <tr style=\"text-align: right;\">\n",
       "      <th></th>\n",
       "      <th>components</th>\n",
       "      <th>date</th>\n",
       "    </tr>\n",
       "  </thead>\n",
       "  <tbody>\n",
       "    <tr>\n",
       "      <th>0</th>\n",
       "      <td>{'co': 188.59, 'no': 1.1, 'no2': 4.97, 'o3': 5...</td>\n",
       "      <td>2020-11-25 03:00:00</td>\n",
       "    </tr>\n",
       "    <tr>\n",
       "      <th>1</th>\n",
       "      <td>{'co': 190.26, 'no': 0.76, 'no2': 4.28, 'o3': ...</td>\n",
       "      <td>2020-11-25 04:00:00</td>\n",
       "    </tr>\n",
       "    <tr>\n",
       "      <th>2</th>\n",
       "      <td>{'co': 191.93, 'no': 0.6, 'no2': 3.9, 'o3': 57...</td>\n",
       "      <td>2020-11-25 05:00:00</td>\n",
       "    </tr>\n",
       "    <tr>\n",
       "      <th>3</th>\n",
       "      <td>{'co': 195.27, 'no': 0.74, 'no2': 3.98, 'o3': ...</td>\n",
       "      <td>2020-11-25 06:00:00</td>\n",
       "    </tr>\n",
       "    <tr>\n",
       "      <th>4</th>\n",
       "      <td>{'co': 196.93, 'no': 0.84, 'no2': 3.6, 'o3': 5...</td>\n",
       "      <td>2020-11-25 07:00:00</td>\n",
       "    </tr>\n",
       "  </tbody>\n",
       "</table>\n",
       "</div>"
      ],
      "text/plain": [
       "                                          components                date\n",
       "0  {'co': 188.59, 'no': 1.1, 'no2': 4.97, 'o3': 5... 2020-11-25 03:00:00\n",
       "1  {'co': 190.26, 'no': 0.76, 'no2': 4.28, 'o3': ... 2020-11-25 04:00:00\n",
       "2  {'co': 191.93, 'no': 0.6, 'no2': 3.9, 'o3': 57... 2020-11-25 05:00:00\n",
       "3  {'co': 195.27, 'no': 0.74, 'no2': 3.98, 'o3': ... 2020-11-25 06:00:00\n",
       "4  {'co': 196.93, 'no': 0.84, 'no2': 3.6, 'o3': 5... 2020-11-25 07:00:00"
      ]
     },
     "execution_count": 21,
     "metadata": {},
     "output_type": "execute_result"
    }
   ],
   "source": [
    "data_air.head()"
   ]
  },
  {
   "cell_type": "code",
   "execution_count": 22,
   "id": "e7d22641",
   "metadata": {
    "scrolled": false
   },
   "outputs": [
    {
     "ename": "NameError",
     "evalue": "name 'df' is not defined",
     "output_type": "error",
     "traceback": [
      "\u001b[1;31m---------------------------------------------------------------------------\u001b[0m",
      "\u001b[1;31mNameError\u001b[0m                                 Traceback (most recent call last)",
      "Input \u001b[1;32mIn [22]\u001b[0m, in \u001b[0;36m<cell line: 5>\u001b[1;34m()\u001b[0m\n\u001b[0;32m      2\u001b[0m data_air \u001b[38;5;241m=\u001b[39m pd\u001b[38;5;241m.\u001b[39mconcat([data_air, data_air[\u001b[38;5;124m\"\u001b[39m\u001b[38;5;124mcomponents\u001b[39m\u001b[38;5;124m\"\u001b[39m]\u001b[38;5;241m.\u001b[39mapply(pd\u001b[38;5;241m.\u001b[39mSeries)], axis\u001b[38;5;241m=\u001b[39m\u001b[38;5;241m1\u001b[39m)\n\u001b[0;32m      4\u001b[0m \u001b[38;5;66;03m#Drop columns\u001b[39;00m\n\u001b[1;32m----> 5\u001b[0m \u001b[43mdf\u001b[49m\u001b[38;5;241m.\u001b[39mdrop(columns\u001b[38;5;241m=\u001b[39m[\u001b[38;5;124m\"\u001b[39m\u001b[38;5;124mcomponents\u001b[39m\u001b[38;5;124m\"\u001b[39m],inplace\u001b[38;5;241m=\u001b[39m\u001b[38;5;28;01mTrue\u001b[39;00m)\n",
      "\u001b[1;31mNameError\u001b[0m: name 'df' is not defined"
     ]
    }
   ],
   "source": [
    "#correct df\n",
    "data_air = pd.concat([data_air, data_air[\"components\"].apply(pd.Series)], axis=1)"
   ]
  },
  {
   "cell_type": "code",
   "execution_count": 26,
   "id": "9372fc61",
   "metadata": {
    "scrolled": true
   },
   "outputs": [],
   "source": [
    "data_air=data_air.set_index(\"date\")"
   ]
  },
  {
   "cell_type": "code",
   "execution_count": 28,
   "id": "84019a12",
   "metadata": {},
   "outputs": [],
   "source": [
    "#Drop columns\n",
    "data_air.drop(columns=[\"components\"],inplace=True)"
   ]
  },
  {
   "cell_type": "code",
   "execution_count": 29,
   "id": "05fc7c91",
   "metadata": {
    "scrolled": true
   },
   "outputs": [
    {
     "data": {
      "text/html": [
       "<div>\n",
       "<style scoped>\n",
       "    .dataframe tbody tr th:only-of-type {\n",
       "        vertical-align: middle;\n",
       "    }\n",
       "\n",
       "    .dataframe tbody tr th {\n",
       "        vertical-align: top;\n",
       "    }\n",
       "\n",
       "    .dataframe thead th {\n",
       "        text-align: right;\n",
       "    }\n",
       "</style>\n",
       "<table border=\"1\" class=\"dataframe\">\n",
       "  <thead>\n",
       "    <tr style=\"text-align: right;\">\n",
       "      <th></th>\n",
       "      <th>co</th>\n",
       "      <th>no</th>\n",
       "      <th>no2</th>\n",
       "      <th>o3</th>\n",
       "      <th>so2</th>\n",
       "      <th>pm2_5</th>\n",
       "      <th>pm10</th>\n",
       "      <th>nh3</th>\n",
       "    </tr>\n",
       "    <tr>\n",
       "      <th>date</th>\n",
       "      <th></th>\n",
       "      <th></th>\n",
       "      <th></th>\n",
       "      <th></th>\n",
       "      <th></th>\n",
       "      <th></th>\n",
       "      <th></th>\n",
       "      <th></th>\n",
       "    </tr>\n",
       "  </thead>\n",
       "  <tbody>\n",
       "    <tr>\n",
       "      <th>2020-11-25 03:00:00</th>\n",
       "      <td>188.59</td>\n",
       "      <td>1.10</td>\n",
       "      <td>4.97</td>\n",
       "      <td>55.79</td>\n",
       "      <td>4.17</td>\n",
       "      <td>2.72</td>\n",
       "      <td>7.87</td>\n",
       "      <td>0.63</td>\n",
       "    </tr>\n",
       "    <tr>\n",
       "      <th>2020-11-25 04:00:00</th>\n",
       "      <td>190.26</td>\n",
       "      <td>0.76</td>\n",
       "      <td>4.28</td>\n",
       "      <td>59.37</td>\n",
       "      <td>3.79</td>\n",
       "      <td>2.31</td>\n",
       "      <td>6.75</td>\n",
       "      <td>0.58</td>\n",
       "    </tr>\n",
       "    <tr>\n",
       "      <th>2020-11-25 05:00:00</th>\n",
       "      <td>191.93</td>\n",
       "      <td>0.60</td>\n",
       "      <td>3.90</td>\n",
       "      <td>57.22</td>\n",
       "      <td>3.37</td>\n",
       "      <td>1.93</td>\n",
       "      <td>5.58</td>\n",
       "      <td>0.53</td>\n",
       "    </tr>\n",
       "    <tr>\n",
       "      <th>2020-11-25 06:00:00</th>\n",
       "      <td>195.27</td>\n",
       "      <td>0.74</td>\n",
       "      <td>3.98</td>\n",
       "      <td>57.22</td>\n",
       "      <td>3.55</td>\n",
       "      <td>1.74</td>\n",
       "      <td>5.04</td>\n",
       "      <td>0.59</td>\n",
       "    </tr>\n",
       "    <tr>\n",
       "      <th>2020-11-25 07:00:00</th>\n",
       "      <td>196.93</td>\n",
       "      <td>0.84</td>\n",
       "      <td>3.60</td>\n",
       "      <td>58.65</td>\n",
       "      <td>3.46</td>\n",
       "      <td>1.70</td>\n",
       "      <td>5.01</td>\n",
       "      <td>0.59</td>\n",
       "    </tr>\n",
       "  </tbody>\n",
       "</table>\n",
       "</div>"
      ],
      "text/plain": [
       "                         co    no   no2     o3   so2  pm2_5  pm10   nh3\n",
       "date                                                                   \n",
       "2020-11-25 03:00:00  188.59  1.10  4.97  55.79  4.17   2.72  7.87  0.63\n",
       "2020-11-25 04:00:00  190.26  0.76  4.28  59.37  3.79   2.31  6.75  0.58\n",
       "2020-11-25 05:00:00  191.93  0.60  3.90  57.22  3.37   1.93  5.58  0.53\n",
       "2020-11-25 06:00:00  195.27  0.74  3.98  57.22  3.55   1.74  5.04  0.59\n",
       "2020-11-25 07:00:00  196.93  0.84  3.60  58.65  3.46   1.70  5.01  0.59"
      ]
     },
     "execution_count": 29,
     "metadata": {},
     "output_type": "execute_result"
    }
   ],
   "source": [
    "data_air.head()"
   ]
  },
  {
   "cell_type": "code",
   "execution_count": 41,
   "id": "f40d53d5",
   "metadata": {},
   "outputs": [],
   "source": [
    "def plot_chart(data, interval):\n",
    "    fig, ax = plt.subplots()\n",
    "    ax.plot(data.index, data.values)\n",
    "    if interval == 'daily':\n",
    "        ax.xaxis.set_major_locator(DayLocator())\n",
    "    elif interval == 'weekly':\n",
    "        ax.xaxis.set_major_locator(WeekdayLocator())\n",
    "    elif interval == 'monthly':\n",
    "        ax.xaxis.set_major_locator(MonthLocator())\n",
    "    plt.show()"
   ]
  },
  {
   "cell_type": "code",
   "execution_count": 42,
   "id": "b35a0b27",
   "metadata": {},
   "outputs": [
    {
     "data": {
      "image/png": "[encoded data removed]",
      "text/plain": [
       "<Figure size 432x288 with 1 Axes>"
      ]
     },
     "metadata": {
      "needs_background": "light"
     },
     "output_type": "display_data"
    }
   ],
   "source": [
    "plot_chart(data_air, 'daily')"
   ]
  },
  {
   "cell_type": "code",
   "execution_count": 43,
   "id": "e93c5297",
   "metadata": {},
   "outputs": [
    {
     "data": {
      "image/png": "[encoded data removed]",
      "text/plain": [
       "<Figure size 432x288 with 1 Axes>"
      ]
     },
     "metadata": {
      "needs_background": "light"
     },
     "output_type": "display_data"
    }
   ],
   "source": [
    "plot_chart(data_air, 'weekly')"
   ]
  },
  {
   "cell_type": "code",
   "execution_count": 39,
   "id": "918a2be5",
   "metadata": {
    "scrolled": true
   },
   "outputs": [
    {
     "data": {
      "text/plain": [
       "Index(['co', 'no', 'no2', 'o3', 'so2', 'pm2_5', 'pm10', 'nh3'], dtype='object')"
      ]
     },
     "execution_count": 39,
     "metadata": {},
     "output_type": "execute_result"
    }
   ],
   "source": [
    "data_air.columns"
   ]
  },
  {
   "cell_type": "markdown",
   "id": "d7724083",
   "metadata": {},
   "source": [
    "to save time we will export the `data_air` dataframe to csv"
   ]
  },
  {
   "cell_type": "code",
   "execution_count": 44,
   "id": "a66549a7",
   "metadata": {},
   "outputs": [],
   "source": [
    "data_air.to_csv('data_air.csv')"
   ]
  },
  {
   "cell_type": "code",
   "execution_count": null,
   "id": "f3ad29ba",
   "metadata": {},
   "outputs": [],
   "source": []
  }
 ],
 "metadata": {
  "kernelspec": {
   "display_name": "Python 3 (ipykernel)",
   "language": "python",
   "name": "python3"
  },
  "language_info": {
   "codemirror_mode": {
    "name": "ipython",
    "version": 3
   },
   "file_extension": ".py",
   "mimetype": "text/x-python",
   "name": "python",
   "nbconvert_exporter": "python",
   "pygments_lexer": "ipython3",
   "version": "3.9.7"
  }
 },
 "nbformat": 4,
 "nbformat_minor": 5
}
