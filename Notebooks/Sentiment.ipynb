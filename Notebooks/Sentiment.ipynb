{
 "cells": [
  {
   "cell_type": "markdown",
   "id": "11646373",
   "metadata": {},
   "source": [
    "# Sentiment"
   ]
  },
  {
   "cell_type": "markdown",
   "id": "91dcd8c0",
   "metadata": {},
   "source": [
    "In this notebook we will explore sentiment for use in our `wow` web app that we have created"
   ]
  },
  {
   "cell_type": "markdown",
   "id": "c7ff9b04",
   "metadata": {},
   "source": [
    "The following dashboard will contain:\n",
    "\n",
    "- Overall sentiment: This would include data on the overall sentiment of guest reviews, such as positive, neutral, or negative.\n",
    "\n",
    "- Sentiment by source: This would include data on the sentiment of reviews from different sources, such as online review sites, social media, or customer feedback forms.\n",
    "\n",
    "- Sentiment by location: This would include data on the sentiment of reviews for different camps/caravan sites located in different regions of Australia.\n",
    "\n",
    "- Top positive and negative keywords: This would include data on the most commonly used positive and negative words in guest reviews.\n",
    "\n",
    "- Sentiment by category: This would include data on the sentiment of reviews for different categories, such as accommodation, facilities, staff, location, food, and activities.\n",
    "\n",
    "- Time series analysis: This would include data on how sentiment has changed over time, such as by month, season, or year.\n",
    "\n",
    "- Overall rating: This would include data on the overall rating of the guest reviews, and also a comparison of this rating with the industry standard.\n",
    "\n",
    "- Guest demographics: This would include data on the demographics of the guests who have given feedback and how sentiment varies based on demographics.\n",
    "\n",
    "All the above data would be useful for the company to understand the perception of their brand and services among the customers and to make informed decisions about pricing, marketing, and other strategic activities. Sentiment analysis can also help the company to identify any recurring issues and take necessary steps to improve their services."
   ]
  },
  {
   "cell_type": "markdown",
   "id": "f1cbeeb9",
   "metadata": {},
   "source": [
    "# Table of contents\n",
    "\n",
    "1. Data Sourcing\n",
    "2. EDA\n",
    "3. Data Engineering\n",
    "4. Data Visualization"
   ]
  },
  {
   "cell_type": "code",
   "execution_count": null,
   "id": "2e81062c",
   "metadata": {},
   "outputs": [],
   "source": []
  }
 ],
 "metadata": {
  "kernelspec": {
   "display_name": "Python 3 (ipykernel)",
   "language": "python",
   "name": "python3"
  },
  "language_info": {
   "codemirror_mode": {
    "name": "ipython",
    "version": 3
   },
   "file_extension": ".py",
   "mimetype": "text/x-python",
   "name": "python",
   "nbconvert_exporter": "python",
   "pygments_lexer": "ipython3",
   "version": "3.9.7"
  }
 },
 "nbformat": 4,
 "nbformat_minor": 5
}
