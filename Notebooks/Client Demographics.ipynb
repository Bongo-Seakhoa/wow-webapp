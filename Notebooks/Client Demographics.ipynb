{
 "cells": [
  {
   "cell_type": "markdown",
   "id": "d50fe206",
   "metadata": {},
   "source": [
    "# Client Demographics "
   ]
  },
  {
   "cell_type": "markdown",
   "id": "45a788f7",
   "metadata": {},
   "source": [
    "In this notebook we will explore client demographics for use in our `wow` web app that we have created"
   ]
  },
  {
   "cell_type": "markdown",
   "id": "b81fe844",
   "metadata": {},
   "source": [
    "The following dashboard will contain:\n",
    "\n",
    "- Age distribution of guests: This would include data on the percentage of guests in different age groups, such as children, teenagers, young adults, middle-aged adults, and seniors.\n",
    "\n",
    "- Gender distribution of guests: This would include data on the percentage of male and female guests.\n",
    "\n",
    "- Occupation: This would include data on the percentage of guests in different occupational groups, such as retiree, students, professionals, blue collar workers etc.\n",
    "\n",
    "- Family structure: This would include data on the percentage of guests who are traveling as a family, with children, or alone.\n",
    "\n",
    "- Income level: This would include data on the average income level of guests, which could be used to target marketing efforts to different groups of people.\n",
    "\n",
    "- Location: This would include data on the percentage of guests from different regions, both within Australia and internationally.\n",
    "\n",
    "- repeat customers: This would include data on how many customers have returned to the camp/caravan site.\n",
    "\n",
    "- Seasonal variation: This would include data on how the demographics of guests vary by season, such as holiday season, school holidays etc.\n",
    "\n",
    "- Feedback: This would include data on feedback received from the customers on their demographics, this can be done by having a section on feedback forms where customers can fill out their demographic information.\n",
    "\n",
    "All the above data would be useful for the company to understand the demographics of their customer base and to make informed decisions about pricing, marketing, and other strategic activities."
   ]
  },
  {
   "cell_type": "markdown",
   "id": "5e6de18a",
   "metadata": {},
   "source": [
    "# Table of contents\n",
    "\n",
    "1. Data Sourcing\n",
    "2. EDA\n",
    "3. Data Engineering\n",
    "4. Data Visualization"
   ]
  },
  {
   "cell_type": "code",
   "execution_count": null,
   "id": "70afe8cd",
   "metadata": {},
   "outputs": [],
   "source": []
  }
 ],
 "metadata": {
  "kernelspec": {
   "display_name": "Python 3 (ipykernel)",
   "language": "python",
   "name": "python3"
  },
  "language_info": {
   "codemirror_mode": {
    "name": "ipython",
    "version": 3
   },
   "file_extension": ".py",
   "mimetype": "text/x-python",
   "name": "python",
   "nbconvert_exporter": "python",
   "pygments_lexer": "ipython3",
   "version": "3.9.7"
  }
 },
 "nbformat": 4,
 "nbformat_minor": 5
}
